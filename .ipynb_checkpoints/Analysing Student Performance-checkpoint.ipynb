{
 "cells": [
  {
   "cell_type": "markdown",
   "id": "b663dac6-75ef-4233-8188-71d9fa816b48",
   "metadata": {},
   "source": [
    "## Familiarize yourself\n",
    "The first thing to do is to get familiar with your dataset. Python provides a library called Pandas that can help us to analyze and manipulate our dataset. Pandas has many fuctions to carry out those duties. In Pandas, Dataframes are the center of focus. They are a tabular representation of our data. "
   ]
  },
  {
   "cell_type": "code",
   "execution_count": 1,
   "id": "957bd74f",
   "metadata": {},
   "outputs": [
    {
     "ename": "ModuleNotFoundError",
     "evalue": "No module named 'pandas'",
     "output_type": "error",
     "traceback": [
      "\u001b[1;31m---------------------------------------------------------------------------\u001b[0m",
      "\u001b[1;31mModuleNotFoundError\u001b[0m                       Traceback (most recent call last)",
      "Cell \u001b[1;32mIn[1], line 3\u001b[0m\n\u001b[0;32m      1\u001b[0m \u001b[38;5;66;03m#First import the necessary libraries\u001b[39;00m\n\u001b[0;32m      2\u001b[0m \u001b[38;5;66;03m#( If the model cannot be found, go to your terminal and run pip install pandas)\u001b[39;00m\n\u001b[1;32m----> 3\u001b[0m \u001b[38;5;28;01mimport\u001b[39;00m \u001b[38;5;21;01mpandas\u001b[39;00m \u001b[38;5;28;01mas\u001b[39;00m \u001b[38;5;21;01mpd\u001b[39;00m\n\u001b[0;32m      5\u001b[0m \u001b[38;5;66;03m# It is best practice to save the data's path in a variable for future use.\u001b[39;00m\n\u001b[0;32m      6\u001b[0m data_path \u001b[38;5;241m=\u001b[39m \u001b[38;5;124m\"\u001b[39m\u001b[38;5;124mStudentsPerformance.csv\u001b[39m\u001b[38;5;124m\"\u001b[39m\n",
      "\u001b[1;31mModuleNotFoundError\u001b[0m: No module named 'pandas'"
     ]
    }
   ],
   "source": [
    "#First import the necessary libraries\n",
    "#( If the model cannot be found, go to your terminal and run pip install pandas)\n",
    "import pandas as pd\n",
    "\n",
    "# It is best practice to save the data's path in a variable for future use.\n",
    "data_path = \"StudentsPerformance.csv\"\n",
    "\n",
    "# We read it with pandas\n",
    "data = pd.read_csv(data_path)"
   ]
  },
  {
   "cell_type": "code",
   "execution_count": null,
   "id": "1ece359a",
   "metadata": {},
   "outputs": [],
   "source": []
  },
  {
   "cell_type": "code",
   "execution_count": null,
   "id": "e26de86a",
   "metadata": {},
   "outputs": [],
   "source": []
  }
 ],
 "metadata": {
  "kernelspec": {
   "display_name": "Python 3",
   "language": "python",
   "name": "python3"
  },
  "language_info": {
   "codemirror_mode": {
    "name": "ipython",
    "version": 3
   },
   "file_extension": ".py",
   "mimetype": "text/x-python",
   "name": "python",
   "nbconvert_exporter": "python",
   "pygments_lexer": "ipython3",
   "version": "3.11.4"
  }
 },
 "nbformat": 4,
 "nbformat_minor": 5
}
