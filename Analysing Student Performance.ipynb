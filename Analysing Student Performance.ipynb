{
 "cells": [
  {
   "cell_type": "markdown",
   "id": "b663dac6-75ef-4233-8188-71d9fa816b48",
   "metadata": {},
   "source": [
    "## Familiarize yourself\n",
    "The first thing to do is to get familiar with your dataset. Python provides a library called Pandas that can help us to analyze and manipulate our dataset. Pandas has many fuctions to carry out those duties. In Pandas, Dataframes are the center of focus. They are a tabular representation of our data. "
   ]
  },
  {
   "cell_type": "code",
   "execution_count": 1,
   "id": "957bd74f",
   "metadata": {},
   "outputs": [],
   "source": [
    "#First import the necessary libraries\n",
    "#( If the model cannot be found, go to your terminal and run pip install pandas)\n",
    "import pandas as pd\n",
    "from sklearn.tree import DecisionTreeRegressor\n",
    "\n",
    "# It is best practice to save the data's path in a variable for future use.\n",
    "data_path = \"StudentsPerformance.csv\"\n",
    "\n",
    "# We read it with pandas\n",
    "data = pd.read_csv(data_path)"
   ]
  },
  {
   "cell_type": "code",
   "execution_count": 2,
   "id": "1ece359a",
   "metadata": {
    "scrolled": true
   },
   "outputs": [
    {
     "data": {
      "text/html": [
       "<div>\n",
       "<style scoped>\n",
       "    .dataframe tbody tr th:only-of-type {\n",
       "        vertical-align: middle;\n",
       "    }\n",
       "\n",
       "    .dataframe tbody tr th {\n",
       "        vertical-align: top;\n",
       "    }\n",
       "\n",
       "    .dataframe thead th {\n",
       "        text-align: right;\n",
       "    }\n",
       "</style>\n",
       "<table border=\"1\" class=\"dataframe\">\n",
       "  <thead>\n",
       "    <tr style=\"text-align: right;\">\n",
       "      <th></th>\n",
       "      <th>math score</th>\n",
       "      <th>reading score</th>\n",
       "      <th>writing score</th>\n",
       "    </tr>\n",
       "  </thead>\n",
       "  <tbody>\n",
       "    <tr>\n",
       "      <th>count</th>\n",
       "      <td>1000.00000</td>\n",
       "      <td>1000.000000</td>\n",
       "      <td>1000.000000</td>\n",
       "    </tr>\n",
       "    <tr>\n",
       "      <th>mean</th>\n",
       "      <td>66.08900</td>\n",
       "      <td>69.169000</td>\n",
       "      <td>68.054000</td>\n",
       "    </tr>\n",
       "    <tr>\n",
       "      <th>std</th>\n",
       "      <td>15.16308</td>\n",
       "      <td>14.600192</td>\n",
       "      <td>15.195657</td>\n",
       "    </tr>\n",
       "    <tr>\n",
       "      <th>min</th>\n",
       "      <td>0.00000</td>\n",
       "      <td>17.000000</td>\n",
       "      <td>10.000000</td>\n",
       "    </tr>\n",
       "    <tr>\n",
       "      <th>25%</th>\n",
       "      <td>57.00000</td>\n",
       "      <td>59.000000</td>\n",
       "      <td>57.750000</td>\n",
       "    </tr>\n",
       "    <tr>\n",
       "      <th>50%</th>\n",
       "      <td>66.00000</td>\n",
       "      <td>70.000000</td>\n",
       "      <td>69.000000</td>\n",
       "    </tr>\n",
       "    <tr>\n",
       "      <th>75%</th>\n",
       "      <td>77.00000</td>\n",
       "      <td>79.000000</td>\n",
       "      <td>79.000000</td>\n",
       "    </tr>\n",
       "    <tr>\n",
       "      <th>max</th>\n",
       "      <td>100.00000</td>\n",
       "      <td>100.000000</td>\n",
       "      <td>100.000000</td>\n",
       "    </tr>\n",
       "  </tbody>\n",
       "</table>\n",
       "</div>"
      ],
      "text/plain": [
       "       math score  reading score  writing score\n",
       "count  1000.00000    1000.000000    1000.000000\n",
       "mean     66.08900      69.169000      68.054000\n",
       "std      15.16308      14.600192      15.195657\n",
       "min       0.00000      17.000000      10.000000\n",
       "25%      57.00000      59.000000      57.750000\n",
       "50%      66.00000      70.000000      69.000000\n",
       "75%      77.00000      79.000000      79.000000\n",
       "max     100.00000     100.000000     100.000000"
      ]
     },
     "execution_count": 2,
     "metadata": {},
     "output_type": "execute_result"
    }
   ],
   "source": [
    "# Let's take a look at the summary of our data using the describe function\n",
    "\n",
    "data.describe()"
   ]
  },
  {
   "cell_type": "markdown",
   "id": "08fe5756-aaa8-4b5b-a93a-34989f7cc16e",
   "metadata": {},
   "source": [
    "The count row shows the number of unempty entries for each column\n",
    "The mean shows the average value for the numerical rows in the dataset\n",
    "The std(standard deviation) shows how spread the data is from the mean in each column\n",
    "The min row show the least record in each row, same for the max.\n",
    "The 25% percental row shows the value at the first quarter in each row wit numerical entries.\n",
    "The 50% percental shows the mid-value for each numerical column.\n",
    "The 75% percental shows the 3rd quarter value for each numerical column.\n",
    "\n",
    "\n",
    "From our summary, we see that the lowest math score is 0 and the highest is 100. Quite impressive!\n",
    "\n",
    "Our mean values show us that the best performing course is reading, followed by writing and the least is mathematics."
   ]
  },
  {
   "cell_type": "code",
   "execution_count": 3,
   "id": "b6ac2717-5aee-4494-b0ca-92b924bcf276",
   "metadata": {},
   "outputs": [
    {
     "data": {
      "text/plain": [
       "['gender',\n",
       " 'race/ethnicity',\n",
       " 'parental level of education',\n",
       " 'lunch',\n",
       " 'test preparation course',\n",
       " 'math score',\n",
       " 'reading score',\n",
       " 'writing score']"
      ]
     },
     "execution_count": 3,
     "metadata": {},
     "output_type": "execute_result"
    }
   ],
   "source": [
    "# Check out the different columns including the non-numerical ones\n",
    "data.columns.tolist()"
   ]
  },
  {
   "cell_type": "markdown",
   "id": "95486c7d-9e6e-4164-b841-974db1ddf41f",
   "metadata": {},
   "source": [
    "Check for missing data and drop rows with missing data."
   ]
  },
  {
   "cell_type": "code",
   "execution_count": 4,
   "id": "770094f1-4500-43e7-a13d-4194ecbbd797",
   "metadata": {},
   "outputs": [],
   "source": [
    "data = data.dropna(axis = 0)"
   ]
  },
  {
   "cell_type": "markdown",
   "id": "5cd6e604-0113-4491-9002-e0ff8e745cbe",
   "metadata": {},
   "source": [
    " Select prediction column and select columns to be used in data training.\n",
    " Prediction column is stored in a vaiable X. The columns for training can be called features and these are stored in the Y variable."
   ]
  },
  {
   "cell_type": "markdown",
   "id": "efb0818a-8ecd-48e4-b1c4-a991bc6e5559",
   "metadata": {},
   "source": [
    "Firstly, we have to change the column name in the data to remove white spaces between column names to avoid errors"
   ]
  },
  {
   "cell_type": "code",
   "execution_count": 5,
   "id": "b44ca166-7c52-4595-b1cb-2d4e7bf3a090",
   "metadata": {},
   "outputs": [
    {
     "data": {
      "text/plain": [
       "Index(['gender', 'race/ethnicity', 'parental_level_of_education', 'lunch',\n",
       "       'test_preparation_course', 'math_score', 'reading_score',\n",
       "       'writing_score'],\n",
       "      dtype='object')"
      ]
     },
     "execution_count": 5,
     "metadata": {},
     "output_type": "execute_result"
    }
   ],
   "source": [
    "data.columns = [col.replace(' ', '_') for col in data.columns]\n",
    "data.columns"
   ]
  },
  {
   "cell_type": "code",
   "execution_count": 6,
   "id": "5572310b-fb12-458e-8aff-08bc20e50b8d",
   "metadata": {},
   "outputs": [],
   "source": [
    "#Select this column with the dot notation.\n",
    "y = data.math_score\n"
   ]
  },
  {
   "cell_type": "markdown",
   "id": "86191b4c-04e8-4575-8dc4-62f81bdac584",
   "metadata": {},
   "source": [
    "To select the columns for Y, we need to save the column names in a list if we want to manually select some specific columns."
   ]
  },
  {
   "cell_type": "code",
   "execution_count": 7,
   "id": "e4710726-edac-4247-8de1-379454ca196e",
   "metadata": {},
   "outputs": [
    {
     "data": {
      "text/html": [
       "<div>\n",
       "<style scoped>\n",
       "    .dataframe tbody tr th:only-of-type {\n",
       "        vertical-align: middle;\n",
       "    }\n",
       "\n",
       "    .dataframe tbody tr th {\n",
       "        vertical-align: top;\n",
       "    }\n",
       "\n",
       "    .dataframe thead th {\n",
       "        text-align: right;\n",
       "    }\n",
       "</style>\n",
       "<table border=\"1\" class=\"dataframe\">\n",
       "  <thead>\n",
       "    <tr style=\"text-align: right;\">\n",
       "      <th></th>\n",
       "      <th>reading_score</th>\n",
       "      <th>writing_score</th>\n",
       "    </tr>\n",
       "  </thead>\n",
       "  <tbody>\n",
       "    <tr>\n",
       "      <th>count</th>\n",
       "      <td>1000.000000</td>\n",
       "      <td>1000.000000</td>\n",
       "    </tr>\n",
       "    <tr>\n",
       "      <th>mean</th>\n",
       "      <td>69.169000</td>\n",
       "      <td>68.054000</td>\n",
       "    </tr>\n",
       "    <tr>\n",
       "      <th>std</th>\n",
       "      <td>14.600192</td>\n",
       "      <td>15.195657</td>\n",
       "    </tr>\n",
       "    <tr>\n",
       "      <th>min</th>\n",
       "      <td>17.000000</td>\n",
       "      <td>10.000000</td>\n",
       "    </tr>\n",
       "    <tr>\n",
       "      <th>25%</th>\n",
       "      <td>59.000000</td>\n",
       "      <td>57.750000</td>\n",
       "    </tr>\n",
       "    <tr>\n",
       "      <th>50%</th>\n",
       "      <td>70.000000</td>\n",
       "      <td>69.000000</td>\n",
       "    </tr>\n",
       "    <tr>\n",
       "      <th>75%</th>\n",
       "      <td>79.000000</td>\n",
       "      <td>79.000000</td>\n",
       "    </tr>\n",
       "    <tr>\n",
       "      <th>max</th>\n",
       "      <td>100.000000</td>\n",
       "      <td>100.000000</td>\n",
       "    </tr>\n",
       "  </tbody>\n",
       "</table>\n",
       "</div>"
      ],
      "text/plain": [
       "       reading_score  writing_score\n",
       "count    1000.000000    1000.000000\n",
       "mean       69.169000      68.054000\n",
       "std        14.600192      15.195657\n",
       "min        17.000000      10.000000\n",
       "25%        59.000000      57.750000\n",
       "50%        70.000000      69.000000\n",
       "75%        79.000000      79.000000\n",
       "max       100.000000     100.000000"
      ]
     },
     "execution_count": 7,
     "metadata": {},
     "output_type": "execute_result"
    }
   ],
   "source": [
    "feature_cols = ['reading_score','writing_score']\n",
    "X = data[feature_cols]\n",
    "X.describe()"
   ]
  },
  {
   "cell_type": "markdown",
   "id": "62adc01e-d258-4f19-8bb5-d0d219e15e65",
   "metadata": {},
   "source": [
    "Data description for numeric columns are different from that of non-numeric columns.\n",
    "\n",
    "If a dataset contains at least one numeric column, the describe function will summarize only the numeric columns and ignore the non-numeric columns.\n",
    "\n",
    "If there is no numeric column in the dataset, it will provide a different kind of description for the non-numeric columns like we see above."
   ]
  },
  {
   "cell_type": "code",
   "execution_count": 9,
   "id": "716ea89e-6f58-4ef4-afb1-01322f4fe648",
   "metadata": {},
   "outputs": [
    {
     "data": {
      "text/plain": [
       "DecisionTreeRegressor(random_state=1)"
      ]
     },
     "execution_count": 9,
     "metadata": {},
     "output_type": "execute_result"
    }
   ],
   "source": [
    "# Build the model\n",
    "student_model = DecisionTreeRegressor(random_state = 1)\n",
    "\n",
    "# Fit the model\n",
    "student_model.fit(X,y)"
   ]
  },
  {
   "cell_type": "code",
   "execution_count": 10,
   "id": "b41f02c7-3249-4132-8fdf-a8e0f792f9a3",
   "metadata": {},
   "outputs": [
    {
     "name": "stdout",
     "output_type": "stream",
     "text": [
      "[65.2  76.25 90.   47.   82.  ]\n"
     ]
    },
    {
     "data": {
      "text/plain": [
       "0    72\n",
       "1    69\n",
       "2    90\n",
       "3    47\n",
       "4    76\n",
       "Name: math_score, dtype: int64"
      ]
     },
     "execution_count": 10,
     "metadata": {},
     "output_type": "execute_result"
    }
   ],
   "source": [
    "predictions2 = student_model.predict(X.head())\n",
    "print(predictions2)\n",
    "\n",
    "y.head()"
   ]
  },
  {
   "cell_type": "code",
   "execution_count": null,
   "id": "ed40db03-5c7e-40da-8eee-e7914d140076",
   "metadata": {},
   "outputs": [],
   "source": []
  },
  {
   "cell_type": "code",
   "execution_count": null,
   "id": "adf37470-ca52-4bd8-843e-dae279c29357",
   "metadata": {},
   "outputs": [],
   "source": []
  }
 ],
 "metadata": {
  "kernelspec": {
   "display_name": "Python 3 (ipykernel)",
   "language": "python",
   "name": "python3"
  },
  "language_info": {
   "codemirror_mode": {
    "name": "ipython",
    "version": 3
   },
   "file_extension": ".py",
   "mimetype": "text/x-python",
   "name": "python",
   "nbconvert_exporter": "python",
   "pygments_lexer": "ipython3",
   "version": "3.9.13"
  }
 },
 "nbformat": 4,
 "nbformat_minor": 5
}
